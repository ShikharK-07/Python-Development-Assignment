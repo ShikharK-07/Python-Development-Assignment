{
 "cells": [
  {
   "cell_type": "markdown",
   "metadata": {},
   "source": [
    "# Python Development Assignment"
   ]
  },
  {
   "cell_type": "markdown",
   "metadata": {},
   "source": [
    "### Problem Statement\n",
    "Clean, analyze and convert the given data file ‘data.json’  into 3 separate CSV Files according to the requirements given."
   ]
  },
  {
   "cell_type": "markdown",
   "metadata": {},
   "source": [
    "### Solution\n"
   ]
  },
  {
   "cell_type": "markdown",
   "metadata": {},
   "source": [
    "#### Importing necessary libraries"
   ]
  },
  {
   "cell_type": "code",
   "execution_count": 1,
   "metadata": {},
   "outputs": [],
   "source": [
    "import pandas as pd\n",
    "import numpy as np\n",
    "import json"
   ]
  },
  {
   "cell_type": "code",
   "execution_count": 2,
   "metadata": {},
   "outputs": [
    {
     "data": {
      "text/html": [
       "<div>\n",
       "<style scoped>\n",
       "    .dataframe tbody tr th:only-of-type {\n",
       "        vertical-align: middle;\n",
       "    }\n",
       "\n",
       "    .dataframe tbody tr th {\n",
       "        vertical-align: top;\n",
       "    }\n",
       "\n",
       "    .dataframe thead th {\n",
       "        text-align: right;\n",
       "    }\n",
       "</style>\n",
       "<table border=\"1\" class=\"dataframe\">\n",
       "  <thead>\n",
       "    <tr style=\"text-align: right;\">\n",
       "      <th></th>\n",
       "      <th>a</th>\n",
       "      <th>liid</th>\n",
       "      <th>linkedin</th>\n",
       "      <th>n</th>\n",
       "      <th>t</th>\n",
       "      <th>e</th>\n",
       "    </tr>\n",
       "  </thead>\n",
       "  <tbody>\n",
       "    <tr>\n",
       "      <th>0</th>\n",
       "      <td>egypt</td>\n",
       "      <td>saleh-adoum-hamid-1646245a</td>\n",
       "      <td>https://www.linkedin.com/in/saleh-adoum-hamid-...</td>\n",
       "      <td>saleh hamid</td>\n",
       "      <td>NaN</td>\n",
       "      <td>NaN</td>\n",
       "    </tr>\n",
       "    <tr>\n",
       "      <th>1</th>\n",
       "      <td>reading, reading, united kingdom</td>\n",
       "      <td>robbie-woods-2022894b</td>\n",
       "      <td>https://www.linkedin.com/in/robbie-woods-2022894b</td>\n",
       "      <td>robbie woods</td>\n",
       "      <td>NaN</td>\n",
       "      <td>NaN</td>\n",
       "    </tr>\n",
       "    <tr>\n",
       "      <th>2</th>\n",
       "      <td>humble, texas, united states</td>\n",
       "      <td>billy-mckay-64217246</td>\n",
       "      <td>https://www.linkedin.com/in/billy-mckay-64217246</td>\n",
       "      <td>billy mckay</td>\n",
       "      <td>[1-619-549-5428, 1-316-871-3930, 1-801-953-321...</td>\n",
       "      <td>[iluv2flie@yahoo.com, billy.mckay@gmail.com]</td>\n",
       "    </tr>\n",
       "    <tr>\n",
       "      <th>3</th>\n",
       "      <td>adelaide, south australia, australia</td>\n",
       "      <td>pat-sewell-546456b2</td>\n",
       "      <td>https://www.linkedin.com/in/pat-sewell-546456b2</td>\n",
       "      <td>pat sewell</td>\n",
       "      <td>NaN</td>\n",
       "      <td>NaN</td>\n",
       "    </tr>\n",
       "    <tr>\n",
       "      <th>4</th>\n",
       "      <td>chile</td>\n",
       "      <td>gustavo-valenzuela-olguin-62b5aaaa</td>\n",
       "      <td>https://www.linkedin.com/in/gustavo-valenzuela...</td>\n",
       "      <td>gustavo olguin</td>\n",
       "      <td>NaN</td>\n",
       "      <td>NaN</td>\n",
       "    </tr>\n",
       "  </tbody>\n",
       "</table>\n",
       "</div>"
      ],
      "text/plain": [
       "                                      a                                liid  \\\n",
       "0                                 egypt          saleh-adoum-hamid-1646245a   \n",
       "1      reading, reading, united kingdom               robbie-woods-2022894b   \n",
       "2          humble, texas, united states                billy-mckay-64217246   \n",
       "3  adelaide, south australia, australia                 pat-sewell-546456b2   \n",
       "4                                 chile  gustavo-valenzuela-olguin-62b5aaaa   \n",
       "\n",
       "                                            linkedin               n  \\\n",
       "0  https://www.linkedin.com/in/saleh-adoum-hamid-...     saleh hamid   \n",
       "1  https://www.linkedin.com/in/robbie-woods-2022894b    robbie woods   \n",
       "2   https://www.linkedin.com/in/billy-mckay-64217246     billy mckay   \n",
       "3    https://www.linkedin.com/in/pat-sewell-546456b2      pat sewell   \n",
       "4  https://www.linkedin.com/in/gustavo-valenzuela...  gustavo olguin   \n",
       "\n",
       "                                                   t  \\\n",
       "0                                                NaN   \n",
       "1                                                NaN   \n",
       "2  [1-619-549-5428, 1-316-871-3930, 1-801-953-321...   \n",
       "3                                                NaN   \n",
       "4                                                NaN   \n",
       "\n",
       "                                              e  \n",
       "0                                           NaN  \n",
       "1                                           NaN  \n",
       "2  [iluv2flie@yahoo.com, billy.mckay@gmail.com]  \n",
       "3                                           NaN  \n",
       "4                                           NaN  "
      ]
     },
     "execution_count": 2,
     "metadata": {},
     "output_type": "execute_result"
    }
   ],
   "source": [
    "# Importing JSON File\n",
    "\n",
    "df = pd.read_json('data.json', lines=True)    #lines=True Reads the file as a json object per line\n",
    "df.head()"
   ]
  },
  {
   "cell_type": "code",
   "execution_count": 3,
   "metadata": {},
   "outputs": [
    {
     "data": {
      "text/html": [
       "<div>\n",
       "<style scoped>\n",
       "    .dataframe tbody tr th:only-of-type {\n",
       "        vertical-align: middle;\n",
       "    }\n",
       "\n",
       "    .dataframe tbody tr th {\n",
       "        vertical-align: top;\n",
       "    }\n",
       "\n",
       "    .dataframe thead th {\n",
       "        text-align: right;\n",
       "    }\n",
       "</style>\n",
       "<table border=\"1\" class=\"dataframe\">\n",
       "  <thead>\n",
       "    <tr style=\"text-align: right;\">\n",
       "      <th></th>\n",
       "      <th>address</th>\n",
       "      <th>profile_url</th>\n",
       "      <th>linkedin_id</th>\n",
       "      <th>name</th>\n",
       "      <th>mob_number</th>\n",
       "      <th>email</th>\n",
       "    </tr>\n",
       "  </thead>\n",
       "  <tbody>\n",
       "    <tr>\n",
       "      <th>0</th>\n",
       "      <td>egypt</td>\n",
       "      <td>saleh-adoum-hamid-1646245a</td>\n",
       "      <td>https://www.linkedin.com/in/saleh-adoum-hamid-...</td>\n",
       "      <td>saleh hamid</td>\n",
       "      <td>NaN</td>\n",
       "      <td>NaN</td>\n",
       "    </tr>\n",
       "    <tr>\n",
       "      <th>1</th>\n",
       "      <td>reading, reading, united kingdom</td>\n",
       "      <td>robbie-woods-2022894b</td>\n",
       "      <td>https://www.linkedin.com/in/robbie-woods-2022894b</td>\n",
       "      <td>robbie woods</td>\n",
       "      <td>NaN</td>\n",
       "      <td>NaN</td>\n",
       "    </tr>\n",
       "    <tr>\n",
       "      <th>2</th>\n",
       "      <td>humble, texas, united states</td>\n",
       "      <td>billy-mckay-64217246</td>\n",
       "      <td>https://www.linkedin.com/in/billy-mckay-64217246</td>\n",
       "      <td>billy mckay</td>\n",
       "      <td>[1-619-549-5428, 1-316-871-3930, 1-801-953-321...</td>\n",
       "      <td>[iluv2flie@yahoo.com, billy.mckay@gmail.com]</td>\n",
       "    </tr>\n",
       "    <tr>\n",
       "      <th>3</th>\n",
       "      <td>adelaide, south australia, australia</td>\n",
       "      <td>pat-sewell-546456b2</td>\n",
       "      <td>https://www.linkedin.com/in/pat-sewell-546456b2</td>\n",
       "      <td>pat sewell</td>\n",
       "      <td>NaN</td>\n",
       "      <td>NaN</td>\n",
       "    </tr>\n",
       "    <tr>\n",
       "      <th>4</th>\n",
       "      <td>chile</td>\n",
       "      <td>gustavo-valenzuela-olguin-62b5aaaa</td>\n",
       "      <td>https://www.linkedin.com/in/gustavo-valenzuela...</td>\n",
       "      <td>gustavo olguin</td>\n",
       "      <td>NaN</td>\n",
       "      <td>NaN</td>\n",
       "    </tr>\n",
       "  </tbody>\n",
       "</table>\n",
       "</div>"
      ],
      "text/plain": [
       "                                address                         profile_url  \\\n",
       "0                                 egypt          saleh-adoum-hamid-1646245a   \n",
       "1      reading, reading, united kingdom               robbie-woods-2022894b   \n",
       "2          humble, texas, united states                billy-mckay-64217246   \n",
       "3  adelaide, south australia, australia                 pat-sewell-546456b2   \n",
       "4                                 chile  gustavo-valenzuela-olguin-62b5aaaa   \n",
       "\n",
       "                                         linkedin_id            name  \\\n",
       "0  https://www.linkedin.com/in/saleh-adoum-hamid-...     saleh hamid   \n",
       "1  https://www.linkedin.com/in/robbie-woods-2022894b    robbie woods   \n",
       "2   https://www.linkedin.com/in/billy-mckay-64217246     billy mckay   \n",
       "3    https://www.linkedin.com/in/pat-sewell-546456b2      pat sewell   \n",
       "4  https://www.linkedin.com/in/gustavo-valenzuela...  gustavo olguin   \n",
       "\n",
       "                                          mob_number  \\\n",
       "0                                                NaN   \n",
       "1                                                NaN   \n",
       "2  [1-619-549-5428, 1-316-871-3930, 1-801-953-321...   \n",
       "3                                                NaN   \n",
       "4                                                NaN   \n",
       "\n",
       "                                          email  \n",
       "0                                           NaN  \n",
       "1                                           NaN  \n",
       "2  [iluv2flie@yahoo.com, billy.mckay@gmail.com]  \n",
       "3                                           NaN  \n",
       "4                                           NaN  "
      ]
     },
     "execution_count": 3,
     "metadata": {},
     "output_type": "execute_result"
    }
   ],
   "source": [
    "# Reanaming Columns\n",
    "\n",
    "df_new = df.rename(columns={\"a\": \"address\", \"liid\": \"profile_url\",\"linkedin\":\"linkedin_id\",\"n\":\"name\",\"t\":\"mob_number\",\"e\":\"email\"})\n",
    "df_new.head()"
   ]
  },
  {
   "cell_type": "markdown",
   "metadata": {},
   "source": [
    "Here I am replacing the column names according to the question, and therefore changing names as required."
   ]
  },
  {
   "cell_type": "code",
   "execution_count": 4,
   "metadata": {},
   "outputs": [
    {
     "data": {
      "text/plain": [
       "address         61\n",
       "profile_url      0\n",
       "linkedin_id      0\n",
       "name             0\n",
       "mob_number     966\n",
       "email          654\n",
       "dtype: int64"
      ]
     },
     "execution_count": 4,
     "metadata": {},
     "output_type": "execute_result"
    }
   ],
   "source": [
    "# Checking for Null Values\n",
    "\n",
    "df_new.isnull().sum()"
   ]
  },
  {
   "cell_type": "markdown",
   "metadata": {},
   "source": [
    "If the table had some column which had count of any entity, we would have replaced null values with 0, but here it is not required. So we will keep as it is."
   ]
  },
  {
   "cell_type": "markdown",
   "metadata": {},
   "source": [
    "#### Now saving into CSV files"
   ]
  },
  {
   "cell_type": "code",
   "execution_count": 6,
   "metadata": {},
   "outputs": [
    {
     "data": {
      "text/html": [
       "<div>\n",
       "<style scoped>\n",
       "    .dataframe tbody tr th:only-of-type {\n",
       "        vertical-align: middle;\n",
       "    }\n",
       "\n",
       "    .dataframe tbody tr th {\n",
       "        vertical-align: top;\n",
       "    }\n",
       "\n",
       "    .dataframe thead th {\n",
       "        text-align: right;\n",
       "    }\n",
       "</style>\n",
       "<table border=\"1\" class=\"dataframe\">\n",
       "  <thead>\n",
       "    <tr style=\"text-align: right;\">\n",
       "      <th></th>\n",
       "      <th>address</th>\n",
       "      <th>profile_url</th>\n",
       "      <th>linkedin_id</th>\n",
       "      <th>name</th>\n",
       "    </tr>\n",
       "  </thead>\n",
       "  <tbody>\n",
       "    <tr>\n",
       "      <th>0</th>\n",
       "      <td>egypt</td>\n",
       "      <td>saleh-adoum-hamid-1646245a</td>\n",
       "      <td>https://www.linkedin.com/in/saleh-adoum-hamid-...</td>\n",
       "      <td>saleh hamid</td>\n",
       "    </tr>\n",
       "    <tr>\n",
       "      <th>1</th>\n",
       "      <td>reading, reading, united kingdom</td>\n",
       "      <td>robbie-woods-2022894b</td>\n",
       "      <td>https://www.linkedin.com/in/robbie-woods-2022894b</td>\n",
       "      <td>robbie woods</td>\n",
       "    </tr>\n",
       "    <tr>\n",
       "      <th>2</th>\n",
       "      <td>humble, texas, united states</td>\n",
       "      <td>billy-mckay-64217246</td>\n",
       "      <td>https://www.linkedin.com/in/billy-mckay-64217246</td>\n",
       "      <td>billy mckay</td>\n",
       "    </tr>\n",
       "    <tr>\n",
       "      <th>3</th>\n",
       "      <td>adelaide, south australia, australia</td>\n",
       "      <td>pat-sewell-546456b2</td>\n",
       "      <td>https://www.linkedin.com/in/pat-sewell-546456b2</td>\n",
       "      <td>pat sewell</td>\n",
       "    </tr>\n",
       "    <tr>\n",
       "      <th>4</th>\n",
       "      <td>chile</td>\n",
       "      <td>gustavo-valenzuela-olguin-62b5aaaa</td>\n",
       "      <td>https://www.linkedin.com/in/gustavo-valenzuela...</td>\n",
       "      <td>gustavo olguin</td>\n",
       "    </tr>\n",
       "  </tbody>\n",
       "</table>\n",
       "</div>"
      ],
      "text/plain": [
       "                                address                         profile_url  \\\n",
       "0                                 egypt          saleh-adoum-hamid-1646245a   \n",
       "1      reading, reading, united kingdom               robbie-woods-2022894b   \n",
       "2          humble, texas, united states                billy-mckay-64217246   \n",
       "3  adelaide, south australia, australia                 pat-sewell-546456b2   \n",
       "4                                 chile  gustavo-valenzuela-olguin-62b5aaaa   \n",
       "\n",
       "                                         linkedin_id            name  \n",
       "0  https://www.linkedin.com/in/saleh-adoum-hamid-...     saleh hamid  \n",
       "1  https://www.linkedin.com/in/robbie-woods-2022894b    robbie woods  \n",
       "2   https://www.linkedin.com/in/billy-mckay-64217246     billy mckay  \n",
       "3    https://www.linkedin.com/in/pat-sewell-546456b2      pat sewell  \n",
       "4  https://www.linkedin.com/in/gustavo-valenzuela...  gustavo olguin  "
      ]
     },
     "execution_count": 6,
     "metadata": {},
     "output_type": "execute_result"
    }
   ],
   "source": [
    "# 1. data_main.csv: with columns: linkedin_id,address,profile_url,name\n",
    "df_1 = df_new.drop(['mob_number','email'],axis=1)\n",
    "df_1.head()"
   ]
  },
  {
   "cell_type": "markdown",
   "metadata": {},
   "source": [
    "Here we dropped some columns as per requirements. We needed only 'address','profile_url','name' and 'linkedin_id' columns so we dropped the rest of the columns."
   ]
  },
  {
   "cell_type": "code",
   "execution_count": 7,
   "metadata": {},
   "outputs": [],
   "source": [
    "# Now converting df_1 to data_main.csv\n",
    "\n",
    "df_1.to_csv('data_main.csv',index=False)  #index is kept as False because it creates another column for indexing"
   ]
  },
  {
   "cell_type": "code",
   "execution_count": 8,
   "metadata": {},
   "outputs": [
    {
     "data": {
      "text/html": [
       "<div>\n",
       "<style scoped>\n",
       "    .dataframe tbody tr th:only-of-type {\n",
       "        vertical-align: middle;\n",
       "    }\n",
       "\n",
       "    .dataframe tbody tr th {\n",
       "        vertical-align: top;\n",
       "    }\n",
       "\n",
       "    .dataframe thead th {\n",
       "        text-align: right;\n",
       "    }\n",
       "</style>\n",
       "<table border=\"1\" class=\"dataframe\">\n",
       "  <thead>\n",
       "    <tr style=\"text-align: right;\">\n",
       "      <th></th>\n",
       "      <th>linkedin_id</th>\n",
       "      <th>email</th>\n",
       "    </tr>\n",
       "  </thead>\n",
       "  <tbody>\n",
       "    <tr>\n",
       "      <th>0</th>\n",
       "      <td>https://www.linkedin.com/in/saleh-adoum-hamid-...</td>\n",
       "      <td>NaN</td>\n",
       "    </tr>\n",
       "    <tr>\n",
       "      <th>1</th>\n",
       "      <td>https://www.linkedin.com/in/robbie-woods-2022894b</td>\n",
       "      <td>NaN</td>\n",
       "    </tr>\n",
       "    <tr>\n",
       "      <th>2</th>\n",
       "      <td>https://www.linkedin.com/in/billy-mckay-64217246</td>\n",
       "      <td>[iluv2flie@yahoo.com, billy.mckay@gmail.com]</td>\n",
       "    </tr>\n",
       "    <tr>\n",
       "      <th>3</th>\n",
       "      <td>https://www.linkedin.com/in/pat-sewell-546456b2</td>\n",
       "      <td>NaN</td>\n",
       "    </tr>\n",
       "    <tr>\n",
       "      <th>4</th>\n",
       "      <td>https://www.linkedin.com/in/gustavo-valenzuela...</td>\n",
       "      <td>NaN</td>\n",
       "    </tr>\n",
       "    <tr>\n",
       "      <th>...</th>\n",
       "      <td>...</td>\n",
       "      <td>...</td>\n",
       "    </tr>\n",
       "    <tr>\n",
       "      <th>995</th>\n",
       "      <td>https://www.linkedin.com/in/cernoch-patricia-a...</td>\n",
       "      <td>NaN</td>\n",
       "    </tr>\n",
       "    <tr>\n",
       "      <th>996</th>\n",
       "      <td>https://www.linkedin.com/in/bengt-åke-holmströ...</td>\n",
       "      <td>NaN</td>\n",
       "    </tr>\n",
       "    <tr>\n",
       "      <th>997</th>\n",
       "      <td>https://www.linkedin.com/in/dobryi-andrey-1257...</td>\n",
       "      <td>NaN</td>\n",
       "    </tr>\n",
       "    <tr>\n",
       "      <th>998</th>\n",
       "      <td>https://www.linkedin.com/in/nishant-bhaskar-19...</td>\n",
       "      <td>NaN</td>\n",
       "    </tr>\n",
       "    <tr>\n",
       "      <th>999</th>\n",
       "      <td>https://www.linkedin.com/in/elaine-osbment-9b6...</td>\n",
       "      <td>[elaine.osbment@prowerscounty.net]</td>\n",
       "    </tr>\n",
       "  </tbody>\n",
       "</table>\n",
       "<p>1000 rows × 2 columns</p>\n",
       "</div>"
      ],
      "text/plain": [
       "                                           linkedin_id  \\\n",
       "0    https://www.linkedin.com/in/saleh-adoum-hamid-...   \n",
       "1    https://www.linkedin.com/in/robbie-woods-2022894b   \n",
       "2     https://www.linkedin.com/in/billy-mckay-64217246   \n",
       "3      https://www.linkedin.com/in/pat-sewell-546456b2   \n",
       "4    https://www.linkedin.com/in/gustavo-valenzuela...   \n",
       "..                                                 ...   \n",
       "995  https://www.linkedin.com/in/cernoch-patricia-a...   \n",
       "996  https://www.linkedin.com/in/bengt-åke-holmströ...   \n",
       "997  https://www.linkedin.com/in/dobryi-andrey-1257...   \n",
       "998  https://www.linkedin.com/in/nishant-bhaskar-19...   \n",
       "999  https://www.linkedin.com/in/elaine-osbment-9b6...   \n",
       "\n",
       "                                            email  \n",
       "0                                             NaN  \n",
       "1                                             NaN  \n",
       "2    [iluv2flie@yahoo.com, billy.mckay@gmail.com]  \n",
       "3                                             NaN  \n",
       "4                                             NaN  \n",
       "..                                            ...  \n",
       "995                                           NaN  \n",
       "996                                           NaN  \n",
       "997                                           NaN  \n",
       "998                                           NaN  \n",
       "999            [elaine.osbment@prowerscounty.net]  \n",
       "\n",
       "[1000 rows x 2 columns]"
      ]
     },
     "execution_count": 8,
     "metadata": {},
     "output_type": "execute_result"
    }
   ],
   "source": [
    "# And now similarly we will create data_email.csv\n",
    "\n",
    "df_2 =  df_new.drop(['address','profile_url','name','mob_number'],axis=1)\n",
    "df_2"
   ]
  },
  {
   "cell_type": "markdown",
   "metadata": {},
   "source": [
    "Here we dropped 'address','profile_url','name' and 'mob_number' columns as per the requirements."
   ]
  },
  {
   "cell_type": "code",
   "execution_count": 9,
   "metadata": {},
   "outputs": [],
   "source": [
    "# Now converting df_2 to data_email.csv\n",
    "\n",
    "df_2.to_csv('data_email.csv',index=False) "
   ]
  },
  {
   "cell_type": "code",
   "execution_count": 11,
   "metadata": {},
   "outputs": [
    {
     "data": {
      "text/html": [
       "<div>\n",
       "<style scoped>\n",
       "    .dataframe tbody tr th:only-of-type {\n",
       "        vertical-align: middle;\n",
       "    }\n",
       "\n",
       "    .dataframe tbody tr th {\n",
       "        vertical-align: top;\n",
       "    }\n",
       "\n",
       "    .dataframe thead th {\n",
       "        text-align: right;\n",
       "    }\n",
       "</style>\n",
       "<table border=\"1\" class=\"dataframe\">\n",
       "  <thead>\n",
       "    <tr style=\"text-align: right;\">\n",
       "      <th></th>\n",
       "      <th>linkedin_id</th>\n",
       "      <th>mob_number</th>\n",
       "    </tr>\n",
       "  </thead>\n",
       "  <tbody>\n",
       "    <tr>\n",
       "      <th>0</th>\n",
       "      <td>https://www.linkedin.com/in/saleh-adoum-hamid-...</td>\n",
       "      <td>NaN</td>\n",
       "    </tr>\n",
       "    <tr>\n",
       "      <th>1</th>\n",
       "      <td>https://www.linkedin.com/in/robbie-woods-2022894b</td>\n",
       "      <td>NaN</td>\n",
       "    </tr>\n",
       "    <tr>\n",
       "      <th>2</th>\n",
       "      <td>https://www.linkedin.com/in/billy-mckay-64217246</td>\n",
       "      <td>[1-619-549-5428, 1-316-871-3930, 1-801-953-321...</td>\n",
       "    </tr>\n",
       "    <tr>\n",
       "      <th>3</th>\n",
       "      <td>https://www.linkedin.com/in/pat-sewell-546456b2</td>\n",
       "      <td>NaN</td>\n",
       "    </tr>\n",
       "    <tr>\n",
       "      <th>4</th>\n",
       "      <td>https://www.linkedin.com/in/gustavo-valenzuela...</td>\n",
       "      <td>NaN</td>\n",
       "    </tr>\n",
       "  </tbody>\n",
       "</table>\n",
       "</div>"
      ],
      "text/plain": [
       "                                         linkedin_id  \\\n",
       "0  https://www.linkedin.com/in/saleh-adoum-hamid-...   \n",
       "1  https://www.linkedin.com/in/robbie-woods-2022894b   \n",
       "2   https://www.linkedin.com/in/billy-mckay-64217246   \n",
       "3    https://www.linkedin.com/in/pat-sewell-546456b2   \n",
       "4  https://www.linkedin.com/in/gustavo-valenzuela...   \n",
       "\n",
       "                                          mob_number  \n",
       "0                                                NaN  \n",
       "1                                                NaN  \n",
       "2  [1-619-549-5428, 1-316-871-3930, 1-801-953-321...  \n",
       "3                                                NaN  \n",
       "4                                                NaN  "
      ]
     },
     "execution_count": 11,
     "metadata": {},
     "output_type": "execute_result"
    }
   ],
   "source": [
    "# Similarly we do the same process for data_number.csv\n",
    "\n",
    "df_3 = df_new.drop(['address','profile_url','name','email'],axis=1)\n",
    "df_3.head()"
   ]
  },
  {
   "cell_type": "code",
   "execution_count": 12,
   "metadata": {},
   "outputs": [],
   "source": [
    "#Now converting df_2 to data_email.csv\n",
    "\n",
    "df_3.to_csv('data_number.csv',index=False) "
   ]
  },
  {
   "cell_type": "code",
   "execution_count": null,
   "metadata": {},
   "outputs": [],
   "source": []
  }
 ],
 "metadata": {
  "kernelspec": {
   "display_name": "Python 3",
   "language": "python",
   "name": "python3"
  },
  "language_info": {
   "codemirror_mode": {
    "name": "ipython",
    "version": 3
   },
   "file_extension": ".py",
   "mimetype": "text/x-python",
   "name": "python",
   "nbconvert_exporter": "python",
   "pygments_lexer": "ipython3",
   "version": "3.8.5"
  }
 },
 "nbformat": 4,
 "nbformat_minor": 4
}
